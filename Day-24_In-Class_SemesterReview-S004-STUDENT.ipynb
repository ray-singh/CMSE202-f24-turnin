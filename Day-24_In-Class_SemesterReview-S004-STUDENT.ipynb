{
 "cells": [
  {
   "cell_type": "markdown",
   "metadata": {},
   "source": [
    "# In-Class Assignment: Review of CMSE 202 and Concept/Mind Mapping\n",
    "# Day 24\n",
    "# CMSE 202\n",
    "\n",
    "In todays class we'll take a moment to look back on everything we've covered this semester and, in groups and as a class, we'll try to build a concept map of CMSE 202 (much like we did at the beginning of the semester to remind ourselves what was covered in 201!)."
   ]
  },
  {
   "cell_type": "markdown",
   "metadata": {},
   "source": [
    "### <p style=\"text-align: right;\"> &#9989; **Put your name here** </p>\n",
    "#### <p style=\"text-align: right;\"> &#9989; Put your group member names here</p>"
   ]
  },
  {
   "cell_type": "markdown",
   "metadata": {},
   "source": [
    "### Agenda for today's class\n",
    "\n",
    "</p>\n",
    "\n",
    "1. [Small group discussion and review: key themes and main points](#smallgroup-1)\n",
    "1. [Classroom wide discussion of the key themes and main points](#wholeclass-1)\n",
    "1. [Small group activity: building the map](#smallgroup-2)\n",
    "1. [Reviewing the concept map as a class](#wholeclass-2)"
   ]
  },
  {
   "cell_type": "markdown",
   "metadata": {},
   "source": [
    "---\n",
    "<a id=\"smallgroup-1\"></a>\n",
    "## 1. Small group discussion and review: key themes and main points\n",
    "\n",
    "In your pre-class assignment, you were asked to identify the key themes and main points you took away from this class over the course of the semester. You should have been able to justify your choices based on the collection of assignments you've completed (PCAs, ICAs, homework assignments).\n",
    "\n",
    "&#9989; **Do This:** In your groups, each person should take a moment to share what you identified as the key themes or main points for the course. As much as you can, offer examples from class to justify your choices. Once everyone has shared, **condense your list of possible key themes or main points in a list of 3-4. Appoint someone in your group who will be willing to share these with the whole class.** \n",
    "\n",
    "You will have **~20 minutes** to complete this task.\n",
    "\n",
    "Record the themes/point you come up with in the cell below."
   ]
  },
  {
   "cell_type": "markdown",
   "metadata": {
    "tags": []
   },
   "source": [
    "<font size=+3>&#9998;</font> Do This - Erase the contents of this cell and replace it with the key themes/points your group came up with (double-click on this text to edit this cell, and hit shift+enter to save the text)"
   ]
  },
  {
   "cell_type": "markdown",
   "metadata": {},
   "source": [
    "---\n",
    "<a id=\"wholeclass-1\"></a>\n",
    "## 2. Classroom wide discussion of the key themes and main points\n",
    "\n",
    "As a class, we will hear from each group about what they identified as 3-4 key themes or main points.\n",
    "\n",
    "**We'll look for overlap and differences and, as a class, try to come up with a final list of themes.**\n",
    "\n",
    "We'll use this as the starting point for our concept map of CMSE 202 and we'll build it out using a collaborative whiteboard."
   ]
  },
  {
   "cell_type": "markdown",
   "metadata": {},
   "source": [
    "----\n",
    "<a id=\"smallgroup-1\"></a>\n",
    "## 3. Small group activity: building the map\n",
    "\n",
    "Now that we have a list of main themes, we're going to go one level deeper.\n",
    "\n",
    "&#9989; **Do This:** In your small group, discuss the related points, additional topics, and things we've done in class or on out-of-class assignments that are tied to the main themes. **Using virtual post-it notes**, add these to the collaborative whiteboard. In addition, as the whiteboard is populated, look for connections between the themes and the post-it notes. **Draw these connections on the whiteboard**. \n",
    "\n",
    "Again, you will have **~30 minutes** to complete this task.\n",
    "\n",
    "**Note**: You should **add your group number** to your post-it notes so that we know which ideas came from which group. This will help if we need come additional clarifying information or context."
   ]
  },
  {
   "cell_type": "markdown",
   "metadata": {},
   "source": [
    "---\n",
    "<a id=\"wholeclass-2\"></a>\n",
    "## 4. Reviewing the concept map as a class\n",
    "\n",
    "How do we feel about the concept map we've built? Do we agree about the connections? How are our themes, topics, and activities interconnected? Are we missing anything?\n",
    "\n",
    "**We'll talk this through together as a whole class**."
   ]
  },
  {
   "cell_type": "markdown",
   "metadata": {},
   "source": [
    "-----\n",
    "### Congratulations, we're done!\n",
    "\n",
    "Now, you just need to submit this assignment by uploading it to the course <a href=\"https://d2l.msu.edu/\">Desire2Learn</a> web page for today's submission folder (Don't forget to add your names in the first cell).\n"
   ]
  },
  {
   "cell_type": "markdown",
   "metadata": {},
   "source": [
    "&#169; Copyright 2024, The Department of Computational Mathematics, Science and Engineering at Michigan State University"
   ]
  }
 ],
 "metadata": {
  "anaconda-cloud": {},
  "interpreter": {
   "hash": "767d51c1340bd893661ea55ea3124f6de3c7a262a8b4abca0554b478b1e2ff90"
  },
  "kernelspec": {
   "display_name": "Python 3 (ipykernel)",
   "language": "python",
   "name": "python3"
  },
  "language_info": {
   "codemirror_mode": {
    "name": "ipython",
    "version": 3
   },
   "file_extension": ".py",
   "mimetype": "text/x-python",
   "name": "python",
   "nbconvert_exporter": "python",
   "pygments_lexer": "ipython3",
   "version": "3.10.6"
  },
  "widgets": {
   "application/vnd.jupyter.widget-state+json": {
    "state": {},
    "version_major": 2,
    "version_minor": 0
   }
  }
 },
 "nbformat": 4,
 "nbformat_minor": 4
}
