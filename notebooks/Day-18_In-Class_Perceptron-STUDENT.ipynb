{
 "cells": [
  {
   "cell_type": "markdown",
   "metadata": {},
   "source": [
    "# In-Class Assignment: The Perceptron Classifier\n",
    "# Day 18\n",
    "# CMSE 202"
   ]
  },
  {
   "cell_type": "markdown",
   "metadata": {},
   "source": [
    "### <p style=\"text-align: right;\"> &#9989; **Put your name here** </p>\n",
    "#### <p style=\"text-align: right;\"> &#9989; Put your group member names here</p>"
   ]
  },
  {
   "cell_type": "markdown",
   "metadata": {},
   "source": [
    "### Agenda for today's class\n",
    "\n",
    "</p>\n",
    "\n",
    "1. [The Perceptron Model](#perceptron)\n",
    "1. [Loading and inspecting the data](#load-data)\n",
    "1. [Build a Perceptron class (first cut)](#build)\n",
    "1. [Visualing our results: plotting the decision boundary](#viz)\n"
   ]
  },
  {
   "cell_type": "markdown",
   "metadata": {},
   "source": [
    "---\n",
    "<a id=\"perceptron\"></a>\n",
    "## 1. The Perceptron Model"
   ]
  },
  {
   "cell_type": "markdown",
   "metadata": {},
   "source": [
    "The perceptron is one of the first used examples of what has come to be called a neural network. Invented in 1958, it was originally hailed as a way to achieve what had come to be called \"Artificial Intelligence\". However, it was quickly proved that the perceptron model was limited. The claims and subsequent refutations halted neural network research for a number of years.\n",
    "\n",
    "Perceptrons are used as a kind of **classifier** that we can train using examples. The simplest perceptron is what is known as a binary classifier. By this we mean that, we can provide individual examples of two classes (hence, a \"binary\" classifier) where the individuals are represented by some number of features/inputs. All examples use the same input features, but the particular feature values are used for the classification process. The goal is the create the classifier such that, when a never-seen-before individual is provided to the perceptron, it can correctly determine that individual's class\n",
    "\n",
    "There are ways to extend the perceptron's ability to deal with multiple classes (to classify the inputs as representing one of `n` classes instead of only two), but for this exercise we will only be concerned with a binary classifer."
   ]
  },
  {
   "cell_type": "markdown",
   "metadata": {},
   "source": [
    "The limitations of a binary perceptron are that the classes must be **linearly separable**. It is easier to show than to explain. Look at the two graphs below. The axes represent the range of values for the two input features. The dots represent individual input examples based on their corresponding feature values and the colors represent the class that each individual example belongs to. \n",
    "\n",
    "<img src=\"https://i.imgur.com/pU70IHB.png\">\n",
    "\n",
    "For experiment A, it is clear that we can draw a line through the 2D input/feature space such that we can separate the examples of the two classes. For experiment B, no such line separating the two classes exists. Furthermore, it is also clear that we could draw **many** lines for A such that we separate the two classes. \n",
    "\n",
    "**The limitations therefore are**:\n",
    "- a perceptron can only classify elements that are linearly separable\n",
    "- a perceptron cannot distinguish which linear boundary is \"better\"."
   ]
  },
  {
   "cell_type": "markdown",
   "metadata": {},
   "source": [
    "## It's a line\n",
    "\n",
    "The way to think about what a perceptron is doing then is that it is learning a line through the feature space. We will discuss that in a minute but accepting that is true, what is a line? A line is just a simple equation with the following form:\n",
    "\n",
    "$$y = mx + b $$\n",
    "\n",
    "Where `m` is the slope and `b` is the intercept. We are going to train our perceptron such that it finds `m` and `b` where that particular line separates two classes."
   ]
  },
  {
   "cell_type": "markdown",
   "metadata": {},
   "source": [
    "## The setup\n",
    "\n",
    "We are going to setup our perceptron as shown in the image below:\n",
    "\n",
    "<img src=\"https://i.imgur.com/gz05jKe.png\">\n",
    "\n",
    "Remembering that each individual example is represented as a set of features, a **vector** of features, we provide a **weight** associated with each feature input. When the features of a individual example is provided, we multipy each input by its associated weight and sum those products together. \n",
    "\n",
    "You may think of this process as multiplying two vectors (the input vector and the weight vector) together, index to index, and summing the resulting products as what is called the **dot product**. You might note that `numpy` provides such a function.\n",
    "\n",
    "Having obtained the dot product of feature inputs and weights, we add what is called a **bias term**. The bias is also associated with an input \"feature\" (notice the constant \"1\" at the top of the inputs) though it's value is constant for all data points. Is is the combination of weights and the bias term that allow us to find the `m` and the `b` for our equation for a line. \n",
    "\n",
    "Having obtained the result, we pass that result through an **activation function**. Our activation function is typically a step function such that it yields either 1 or -1 indicating whether the particular input is part of one class (1) or the other (-1). Remember, binary classifier."
   ]
  },
  {
   "cell_type": "markdown",
   "metadata": {},
   "source": [
    "---\n",
    "<a id=\"load-data\"></a>\n",
    "## 2. Loading and inspecting the data\n",
    "\n",
    "Before we build a machine learning model, we need data to base it off of. The data set we are going to use is available from the course GitHub repository and is called, `binary-iris.csv`.\n",
    "\n",
    "You can download it from: `https://raw.githubusercontent.com/msu-cmse-courses/cmse202-supplemental-data/main/data/binary-iris.csv`\n",
    "\n",
    "This file is a variation on a classic, simple classification data set for iris flowers from 1936. It is used often as a very simple test of learning systems. The original (see https://en.wikipedia.org/wiki/Iris_flower_data_set ) has 4 classes and 4 inputs, for our experiments we have modified the file to have only 2 inputs and 2 classes. \n",
    "\n",
    "&#9989; **Do This:** Load the data into python and visualize (with a plot) to get a sense for what it looks like. Use different colors to represent the two different iris classifications."
   ]
  },
  {
   "cell_type": "code",
   "execution_count": null,
   "metadata": {},
   "outputs": [],
   "source": [
    "# Do This: Load in the binary-iris.csv file and plot the data based on the iris classifications\n"
   ]
  },
  {
   "cell_type": "markdown",
   "metadata": {},
   "source": [
    "---\n",
    "<a id=\"build\"></a>\n",
    "## 3. Build a Perceptron class (first cut)"
   ]
  },
  {
   "cell_type": "markdown",
   "metadata": {},
   "source": [
    "Let's build a perceptron class but let's skip the learning process for the moment. We created a \"skeleton\" class for you to fill in.\n",
    "\n",
    "&#9989; **Do This:** Complete these two classes based on the specifications below:\n",
    "\n",
    "- an `__init__` method. Basically every class needs this to set instance attributes (i.e. the variables attached to `self` -- make sure you're using the `self.<variable>` notation!). **The `__init__` method should:**\n",
    "  - Take, as an argument, the labeled data (the two data features plus a data label, -1 or 1, at the end)\n",
    "  - Create an object attribute `data` for the data passed in from the file. It should contain 2D vector where each row represents a sample (e.g. an iris flower). Each row should consists of two features and a label. The labels should be modified for 1 (iris setosa) and -1 (iris versicolor). \n",
    "  - Create a 1D weight vector attribute, `weights`, of the same shape as the number of features + 1. The **\"+ 1\"** extra term is for the **bias weight**. For now, fill the weights with some initial value (1.0 would be resonable choice to start). We'll fix that later. Remember that in our Perceptron model from above, the **bias weight term is the first value in the list of weights**.\n",
    "\n",
    "- The class needs a `predict` method which takes a single argument, an array of features from a **single sample** in the data set. **It should do the following:**\n",
    "   - multipy (*as a dot product*) the argument feature vector and the weights for those features.\n",
    "   - add the bias weight (the first value in our list of weights) to the result.\n",
    "   - apply the activation function to the result to say whether the label of that input is -1 vs 1\n",
    "   - return that predicted class value"
   ]
  },
  {
   "cell_type": "code",
   "execution_count": null,
   "metadata": {},
   "outputs": [],
   "source": [
    "## finish the skeleton code below:\n",
    "\n",
    "import numpy as np\n",
    "\n",
    "class Perceptron():\n",
    "\n",
    "    def __init__ (self, labeled_data):        \n",
    "        # set two attributes: data, weights\n",
    "        \n",
    "        pass # delete this line when you add your code\n",
    "        \n",
    "    def predict(self, feature_set):\n",
    "        # predict a single result for one data point.\n",
    "        # should be the dot product of features * weights_for_features + bias_weight\n",
    "        # return 1 if the result is > 0 and -1 of it isn't\n",
    "        \n",
    "        pass # delete this line when you add your code"
   ]
  },
  {
   "cell_type": "markdown",
   "metadata": {},
   "source": [
    "&#9989; **Do This:** Run the following code to test your new Perceptron class. See if it works, even though it is not yet a very good classifier. Iterate on your class until the output from this cell makes sense."
   ]
  },
  {
   "cell_type": "code",
   "execution_count": null,
   "metadata": {
    "ExecuteTime": {
     "end_time": "2022-11-04T17:03:01.147046Z",
     "start_time": "2022-11-04T17:03:01.141190Z"
    }
   },
   "outputs": [],
   "source": [
    "## get data from file, just using file and string ops\n",
    "f = open(\"binary-iris.csv\")\n",
    "header = next(f) # dump the header line\n",
    "data = []\n",
    "for line in f:\n",
    "    fields = line.split(\",\")\n",
    "    # need to strip label because, as the last element, it has a \\n\n",
    "    label = (1.0 if fields[2].strip() == \"Iris-setosa\" else -1.0)\n",
    "    # the fields are strings until we conver them\n",
    "    data.append([float(fields[0]), float(fields[1]), label])\n",
    "f.close()\n",
    "\n",
    "p = Perceptron(data)\n",
    "print(\"weights: \", p.weights[1:])\n",
    "print(\"bias weight:\", p.weights[0])\n",
    "print(\"prediction: \",p.predict([1,1])) # some arbitrary feature vector, just testing here\n",
    "# print(p.data)"
   ]
  },
  {
   "cell_type": "markdown",
   "metadata": {},
   "source": [
    "### Learning\n",
    "\n",
    "OK, now the interesting part. **We need to learn the value of the weights, including the value of the bias weight, so that the predictions of the `predict` method are good**. How do we do that?\n",
    "\n",
    "The basic idea is this. We feed in the data that we have where we know the labels (and we do) to `predict`. We then compare the classification we want (from the existing data) and the classification we got (from the `predict` method). We use that difference to update **all the weights**. We do this for **each** of the data. \n",
    "\n",
    "However, we need to do one more thing. We need to not **over correct** the weights. If we do that then the weight values might swing wildly over time and never settle down. So we also provide a `learning_rate`. This rate reduces how much the weight changes. Overall then we use the following equation:\n",
    "\n",
    "$$ self.weights[i] = self.weights[i] +  (self.learning\\_rate * (class\\_label - prediction\\_label) * feature[i]) $$"
   ]
  },
  {
   "cell_type": "markdown",
   "metadata": {},
   "source": [
    "We do this for each feature/input of the example and each corresponding weight. We also update the bias weight each time we update a weight. We use the same difference, `class_label-prediction_label`, for that update and, remember, the feature value for the bias is just \"1\" (from above). So, if `weights[0]` is the bias weight, then the update equation for the bias weight would be\n",
    "\n",
    "$$ self.weights[0] = self.weights[0] + learning\\_rate * (class\\_label - prediction\\_ label) $$\n",
    "\n",
    "We do this for some number of iterations because, with a small `learning_rate`, we need to repeat the process to get the weight values correctly set."
   ]
  },
  {
   "cell_type": "markdown",
   "metadata": {},
   "source": [
    "### Modify our Perceptron class\n",
    "\n",
    "We need to update our `Perceptron` class to deal with learning.\n",
    "\n",
    "&#9989; **Do This:** Copy the class you wrote from above in the cell below and **make the following changes**:\n",
    "\n",
    "- `__init__`, besides labeled data, should now take two more arguments: the **number of iterations of learning** you want and the **learning_rate**. These should be also stored as object attributes.\n",
    "- Add a new method called `fit`. It should perform the number of iterations of learning provided in `__init__` on all the labeled data as described.\n",
    "- Add a new method called `errors`. It should print out the number of errors for the predicted vs actual class labels and the current weights."
   ]
  },
  {
   "cell_type": "code",
   "execution_count": null,
   "metadata": {},
   "outputs": [],
   "source": [
    "## Fill in the skeleton\n",
    "\n",
    "class Perceptron():\n",
    "\n",
    "    def __init__ (self, labeled_data, iters, learning_rate):        \n",
    "        # attributes now are: data, weights, iterations, learning rate\n",
    "        \n",
    "        pass # delete this line when you add your code\n",
    "        \n",
    "    def predict(self, feature_set):\n",
    "        # same as before\n",
    "        \n",
    "        pass # delete this line when you add your code\n",
    "    \n",
    "    def fit(self):\n",
    "        # for all iterations\n",
    "        #    for each row in the data\n",
    "        #        find the update value, changes the weights (including bias weight)\n",
    "        \n",
    "        pass # delete this line when you add your code\n",
    "\n",
    "    def errors(self):\n",
    "        # how many rows of the data don't match the provided label?\n",
    "        \n",
    "        pass # delete this line when you add your code"
   ]
  },
  {
   "cell_type": "markdown",
   "metadata": {},
   "source": [
    "&#9989; **Do This:** Test your code with the provided code below. Change the number of iterations, the learning rate, and see what happens. Make sure `errors` prints out the weights as you will need them below. It might be useful to write a loop or two to explore how your number of errors changes as you modify the number of iterations or the learning rate."
   ]
  },
  {
   "cell_type": "code",
   "execution_count": null,
   "metadata": {
    "ExecuteTime": {
     "end_time": "2022-11-04T16:58:57.376448Z",
     "start_time": "2022-11-04T16:58:57.364679Z"
    }
   },
   "outputs": [],
   "source": [
    "f = open(\"binary-iris.csv\")\n",
    "header = next(f) # dump the header line\n",
    "data = []\n",
    "for line in f:\n",
    "    fields = line.split(\",\")\n",
    "    # need to strip label because, as the last element, it has a \\n\n",
    "    label = (1.0 if fields[2].strip() == \"Iris-setosa\" else -1.0)\n",
    "    # the fields are strings until we conver them\n",
    "    data.append([float(fields[0]), float(fields[1]), label])\n",
    "f.close()\n",
    "\n",
    "p = Perceptron(data, 10, 0.01)\n",
    "p.fit()\n",
    "p.errors()"
   ]
  },
  {
   "cell_type": "markdown",
   "metadata": {},
   "source": [
    "---\n",
    "<a id=\"viz\"></a>\n",
    "## 4. Visualizing our results: plotting the decision boundary\n",
    "\n",
    "At this point, if you feel like your Perceptron class is working as intended, we can try and visualize this.\n",
    "\n",
    "Once we have run our algorithm, we can try and plot the decision boundary as well as the data entries.\n",
    "\n",
    "To make this happen, let's do some more math!\n",
    "\n",
    "Our basic calculation is $w \\cdot x + bias = 0 $ where `w` and `x` are vectors and the operation \"$\\cdot$\" is the dot product. Since this is in two dimensions (two features for an input), we can rewrite this as: $w_1 * x_1 + w_2 * x_2 + b = 0$. \n",
    "\n",
    "That looks a lot like an equation of a line in the form of $Ax + By + C = 0$ if we assume $x_1 == x$ and $x_2 == y$.\n",
    "\n",
    "if we rewrite this, isolating $x_2$, we get:\n",
    "\n",
    "$$x_2 = \\frac{-w_1}{w_2}x_1 - \\frac{b}{w_2}$$ \n",
    "\n",
    "From that, comparing with the standard form of $y = mx+b$, we can read off our slope and intercept:\n",
    "\n",
    "$$slope = -\\frac{w_1}{w_2}$$\n",
    "\n",
    "$$intercept = \\frac{-b}{w_2}$$\n",
    "\n",
    "Plug in your weights and plot the line. Plot the data as well where they are colored to indicate which class they belong to.\n",
    "\n",
    "The data should be stored in the `Perceptron` instance along with the weights (which `errors` should print out) and plot the line. The separate the two classes and plot each as a different color."
   ]
  },
  {
   "cell_type": "code",
   "execution_count": null,
   "metadata": {
    "ExecuteTime": {
     "end_time": "2022-11-04T16:58:58.654715Z",
     "start_time": "2022-11-04T16:58:58.652856Z"
    }
   },
   "outputs": [],
   "source": [
    "# Write your code here to plot the decision boundary. Use the weights from your solution above!\n"
   ]
  },
  {
   "cell_type": "markdown",
   "metadata": {},
   "source": [
    "---\n",
    "<a id=\"viz\"></a>\n",
    "## 5. Experimenting with the perceptron (Time Permitting)\n",
    "\n",
    "\n",
    "### Now that you have a working Perceptron Classifier... let's experiment with it a bit!\n",
    "\n",
    "When building and testing your Perceptron Classifier you used a simplified version of the iris dataset that has been reduced to just two features and two class labels. \n",
    "\n",
    "### Will your Perceptron classifier work on a more complex dataset?\n",
    "\n",
    "Another widely used dataset for experimenting with binary classification is the [sonar dataset](https://archive.ics.uci.edu/ml/datasets/Connectionist+Bench+(Sonar,+Mines+vs.+Rocks)).\n",
    "\n",
    "A version of this dataset can be found here:\n",
    "\n",
    "`https://raw.githubusercontent.com/msu-cmse-courses/cmse202-supplemental-data/main/data/sonar.csv`\n",
    "\n",
    "Make sure you take a moment to read the [UC Irvine Machine Learning Repository page](https://archive.ics.uci.edu/ml/datasets/Connectionist+Bench+(Sonar,+Mines+vs.+Rocks)) to understand exactly what is in this dataset, but essentially is a collection of sonar measurements of rocks and \"mines\" (metal cynlinders). \n"
   ]
  },
  {
   "cell_type": "markdown",
   "metadata": {},
   "source": [
    "---\n",
    "### Testing your new tool and exploring others\n",
    "\n",
    "With any time that you have left in class, see if you can accomplish the following:\n",
    "\n",
    "1. Load up the sonar dataset and change the class labels so that they can be used with the Perceptron classifier.\n",
    "\n",
    "2. Use the Perceptron classifier you built from scratch to see how well you can do at distinguishing rocks from mines. You may need to make some modifications to your code if you didn't build it to be flexible enough to accept an arbitary number of data deatures. Experiment with the learning rate and number of iterations to see how high of an accuracy you can get with your classifier.\n",
    "\n",
    "3. If you get your Perceptron classifier working, can you figure out how to use the Perceptron Classifier that is available in [scikit-learn](https://scikit-learn.org/stable/index.html)? You may need to do a bit of Google searching and exploration of the documentation to figure this out. How well does the scikit-learn version do compared to the one you built?\n",
    "\n",
    "4. If you're feeling really ambitious, can you build a Perceptron classifier with [Tensorflow](https://www.tensorflow.org/)? Remember, the Perceptron is basically just a single-neuron single-layer neural network."
   ]
  },
  {
   "cell_type": "code",
   "execution_count": null,
   "metadata": {},
   "outputs": [],
   "source": [
    "# Put code here to start and generate new cells as needed.\n"
   ]
  },
  {
   "cell_type": "markdown",
   "metadata": {},
   "source": [
    "-----\n",
    "### Congratulations, we're done!\n",
    "\n",
    "Now, you just need to submit this assignment by uploading it to the course <a href=\"https://d2l.msu.edu/\">Desire2Learn</a> web page for today's submission folder (Don't forget to add your names in the first cell).\n"
   ]
  },
  {
   "cell_type": "markdown",
   "metadata": {},
   "source": [
    "&#169; Copyright 2023, The Department of Computational Mathematics, Science and Engineering at Michigan State University"
   ]
  }
 ],
 "metadata": {
  "kernelspec": {
   "display_name": "Python 3 (ipykernel)",
   "language": "python",
   "name": "python3"
  },
  "language_info": {
   "codemirror_mode": {
    "name": "ipython",
    "version": 3
   },
   "file_extension": ".py",
   "mimetype": "text/x-python",
   "name": "python",
   "nbconvert_exporter": "python",
   "pygments_lexer": "ipython3",
   "version": "3.8.3"
  },
  "latex_envs": {
   "LaTeX_envs_menu_present": true,
   "autoclose": false,
   "autocomplete": true,
   "bibliofile": "biblio.bib",
   "cite_by": "apalike",
   "current_citInitial": 1,
   "eqLabelWithNumbers": true,
   "eqNumInitial": 1,
   "hotkeys": {
    "equation": "Ctrl-E",
    "itemize": "Ctrl-I"
   },
   "labels_anchors": false,
   "latex_user_defs": false,
   "report_style_numbering": false,
   "user_envs_cfg": false
  }
 },
 "nbformat": 4,
 "nbformat_minor": 4
}
